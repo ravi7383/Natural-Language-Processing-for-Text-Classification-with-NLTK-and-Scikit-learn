{
 "cells": [
  {
   "cell_type": "markdown",
   "metadata": {},
   "source": [
    "### 1. Import Necessary Libraries"
   ]
  },
  {
   "cell_type": "code",
   "execution_count": 119,
   "metadata": {},
   "outputs": [],
   "source": [
    "import sys\n",
    "import nltk\n",
    "import sklearn\n",
    "import pandas\n",
    "import numpy\n",
    "\n"
   ]
  },
  {
   "cell_type": "code",
   "execution_count": 120,
   "metadata": {},
   "outputs": [
    {
     "name": "stdout",
     "output_type": "stream",
     "text": [
      "Python: 3.7.10 (default, Feb 26 2021, 10:16:00) \n",
      "[Clang 10.0.0 ]\n",
      "NLTK: 3.5\n",
      "Scikit-learn: 0.24.2\n",
      "pandas: 1.3.3\n",
      "numpy: 1.21.6\n"
     ]
    }
   ],
   "source": [
    "print('Python: {}'.format(sys.version))\n",
    "print('NLTK: {}'.format(nltk.__version__))\n",
    "print('Scikit-learn: {}'.format(sklearn.__version__))\n",
    "print('pandas: {}'.format(pandas.__version__))\n",
    "print('numpy: {}'.format(numpy.__version__))"
   ]
  },
  {
   "cell_type": "markdown",
   "metadata": {},
   "source": [
    "### 2. Load the Dataset"
   ]
  },
  {
   "cell_type": "code",
   "execution_count": 121,
   "metadata": {},
   "outputs": [],
   "source": [
    "import pandas as pd\n",
    "import numpy as np\n",
    "\n",
    "#load the dataset of SMS message\n",
    "df = pd.read_table('SMSSpamCollection',header=None,encoding='utf-8')"
   ]
  },
  {
   "cell_type": "code",
   "execution_count": 122,
   "metadata": {},
   "outputs": [
    {
     "name": "stdout",
     "output_type": "stream",
     "text": [
      "<class 'pandas.core.frame.DataFrame'>\n",
      "RangeIndex: 5572 entries, 0 to 5571\n",
      "Data columns (total 2 columns):\n",
      " #   Column  Non-Null Count  Dtype \n",
      "---  ------  --------------  ----- \n",
      " 0   0       5572 non-null   object\n",
      " 1   1       5572 non-null   object\n",
      "dtypes: object(2)\n",
      "memory usage: 87.2+ KB\n"
     ]
    },
    {
     "data": {
      "text/html": [
       "<div>\n",
       "<style scoped>\n",
       "    .dataframe tbody tr th:only-of-type {\n",
       "        vertical-align: middle;\n",
       "    }\n",
       "\n",
       "    .dataframe tbody tr th {\n",
       "        vertical-align: top;\n",
       "    }\n",
       "\n",
       "    .dataframe thead th {\n",
       "        text-align: right;\n",
       "    }\n",
       "</style>\n",
       "<table border=\"1\" class=\"dataframe\">\n",
       "  <thead>\n",
       "    <tr style=\"text-align: right;\">\n",
       "      <th></th>\n",
       "      <th>0</th>\n",
       "      <th>1</th>\n",
       "    </tr>\n",
       "  </thead>\n",
       "  <tbody>\n",
       "    <tr>\n",
       "      <th>0</th>\n",
       "      <td>ham</td>\n",
       "      <td>Go until jurong point, crazy.. Available only ...</td>\n",
       "    </tr>\n",
       "    <tr>\n",
       "      <th>1</th>\n",
       "      <td>ham</td>\n",
       "      <td>Ok lar... Joking wif u oni...</td>\n",
       "    </tr>\n",
       "    <tr>\n",
       "      <th>2</th>\n",
       "      <td>spam</td>\n",
       "      <td>Free entry in 2 a wkly comp to win FA Cup fina...</td>\n",
       "    </tr>\n",
       "    <tr>\n",
       "      <th>3</th>\n",
       "      <td>ham</td>\n",
       "      <td>U dun say so early hor... U c already then say...</td>\n",
       "    </tr>\n",
       "    <tr>\n",
       "      <th>4</th>\n",
       "      <td>ham</td>\n",
       "      <td>Nah I don't think he goes to usf, he lives aro...</td>\n",
       "    </tr>\n",
       "  </tbody>\n",
       "</table>\n",
       "</div>"
      ],
      "text/plain": [
       "      0                                                  1\n",
       "0   ham  Go until jurong point, crazy.. Available only ...\n",
       "1   ham                      Ok lar... Joking wif u oni...\n",
       "2  spam  Free entry in 2 a wkly comp to win FA Cup fina...\n",
       "3   ham  U dun say so early hor... U c already then say...\n",
       "4   ham  Nah I don't think he goes to usf, he lives aro..."
      ]
     },
     "execution_count": 122,
     "metadata": {},
     "output_type": "execute_result"
    }
   ],
   "source": [
    "#print useful information about the dataset\n",
    "df.info()\n",
    "df.head()"
   ]
  },
  {
   "cell_type": "code",
   "execution_count": 123,
   "metadata": {},
   "outputs": [
    {
     "name": "stdout",
     "output_type": "stream",
     "text": [
      "ham     4825\n",
      "spam     747\n",
      "Name: 0, dtype: int64\n"
     ]
    }
   ],
   "source": [
    "#check the class distribution\n",
    "classes = df[0]\n",
    "print(classes.value_counts())"
   ]
  },
  {
   "cell_type": "markdown",
   "metadata": {},
   "source": [
    "### 2. Preprocess the Data"
   ]
  },
  {
   "cell_type": "markdown",
   "metadata": {},
   "source": [
    "Preprocessing the data is an essential step in natural language process. In the following cells, we will convert our class labels to binary values using the LabelEncoder from sklearn, replace email addresses, URLs, phone numbers, and other symbols by using regular expressions, remove stop words, and extract word stems."
   ]
  },
  {
   "cell_type": "code",
   "execution_count": 124,
   "metadata": {},
   "outputs": [
    {
     "name": "stdout",
     "output_type": "stream",
     "text": [
      "[0 0 1 0 0 1 0 0 1 1]\n"
     ]
    }
   ],
   "source": [
    "from sklearn.preprocessing import LabelEncoder\n",
    "\n",
    "encoder = LabelEncoder()\n",
    "Y = encoder.fit_transform(classes)\n",
    "print(Y[:10])"
   ]
  },
  {
   "cell_type": "code",
   "execution_count": 125,
   "metadata": {},
   "outputs": [
    {
     "name": "stdout",
     "output_type": "stream",
     "text": [
      "0    Go until jurong point, crazy.. Available only ...\n",
      "1                        Ok lar... Joking wif u oni...\n",
      "2    Free entry in 2 a wkly comp to win FA Cup fina...\n",
      "3    U dun say so early hor... U c already then say...\n",
      "4    Nah I don't think he goes to usf, he lives aro...\n",
      "5    FreeMsg Hey there darling it's been 3 week's n...\n",
      "6    Even my brother is not like to speak with me. ...\n",
      "7    As per your request 'Melle Melle (Oru Minnamin...\n",
      "8    WINNER!! As a valued network customer you have...\n",
      "9    Had your mobile 11 months or more? U R entitle...\n",
      "Name: 1, dtype: object\n"
     ]
    }
   ],
   "source": [
    "#store the SMS message Data\n",
    "text_message = df[1]\n",
    "print(text_message[:10])"
   ]
  },
  {
   "cell_type": "markdown",
   "metadata": {},
   "source": [
    "### 2.1 Regular Expressions\n"
   ]
  },
  {
   "cell_type": "markdown",
   "metadata": {},
   "source": [
    "use regular expressions to replace email addresses, URLs, phone numbers, other numbers"
   ]
  },
  {
   "cell_type": "code",
   "execution_count": 126,
   "metadata": {},
   "outputs": [
    {
     "name": "stderr",
     "output_type": "stream",
     "text": [
      "/Users/ravibabariya/opt/anaconda3/lib/python3.7/site-packages/ipykernel_launcher.py:2: FutureWarning: The default value of regex will change from True to False in a future version.\n",
      "  \n",
      "/Users/ravibabariya/opt/anaconda3/lib/python3.7/site-packages/ipykernel_launcher.py:5: FutureWarning: The default value of regex will change from True to False in a future version.\n",
      "  \"\"\"\n",
      "/Users/ravibabariya/opt/anaconda3/lib/python3.7/site-packages/ipykernel_launcher.py:8: FutureWarning: The default value of regex will change from True to False in a future version.\n",
      "  \n",
      "/Users/ravibabariya/opt/anaconda3/lib/python3.7/site-packages/ipykernel_launcher.py:12: FutureWarning: The default value of regex will change from True to False in a future version.\n",
      "  if sys.path[0] == '':\n",
      "/Users/ravibabariya/opt/anaconda3/lib/python3.7/site-packages/ipykernel_launcher.py:15: FutureWarning: The default value of regex will change from True to False in a future version.\n",
      "  from ipykernel import kernelapp as app\n",
      "/Users/ravibabariya/opt/anaconda3/lib/python3.7/site-packages/ipykernel_launcher.py:18: FutureWarning: The default value of regex will change from True to False in a future version.\n",
      "/Users/ravibabariya/opt/anaconda3/lib/python3.7/site-packages/ipykernel_launcher.py:21: FutureWarning: The default value of regex will change from True to False in a future version.\n",
      "/Users/ravibabariya/opt/anaconda3/lib/python3.7/site-packages/ipykernel_launcher.py:24: FutureWarning: The default value of regex will change from True to False in a future version.\n"
     ]
    }
   ],
   "source": [
    "#Replace email addresses with 'email'\n",
    "processed = text_message.str.replace(r'^.+@[^\\.].*\\.[a-z]{2,}$','emailaddress')\n",
    "\n",
    "#Replace URLs with webaddress\n",
    "precessed = processed.str.replace(r'http\\://[a-zA-Z0-9\\-\\.]+\\.[a-zA-Z]{2,3}(/\\S*)?$','webaddress')\n",
    "\n",
    "# Replace money symbols with 'moneysymb' (£ can by typed with ALT key + 156)\n",
    "processed = processed.str.replace(r'£|\\$', 'moneysymb')\n",
    "    \n",
    "# Replace 10 digit phone numbers (formats include paranthesis, spaces, no spaces, dashes) with 'phonenumber'\n",
    "processed = processed.str.replace(r'^\\(?[\\d]{3}\\)?[\\s-]?[\\d]{3}[\\s-]?[\\d]{4}$',\n",
    "                                  'phonenumbr')\n",
    "    \n",
    "# Replace numbers with 'numbr'\n",
    "processed = processed.str.replace(r'\\d+(\\.\\d+)?', 'numbr')\n",
    "\n",
    "# Remove punctuation\n",
    "processed = processed.str.replace(r'[^\\w\\d\\s]', ' ')\n",
    "\n",
    "# Replace whitespace between terms with a single space\n",
    "processed = processed.str.replace(r'\\s+', ' ')\n",
    "\n",
    "# Remove leading and trailing whitespace\n",
    "processed = processed.str.replace(r'^\\s+|\\s+?$', '')"
   ]
  },
  {
   "cell_type": "code",
   "execution_count": 127,
   "metadata": {},
   "outputs": [
    {
     "name": "stdout",
     "output_type": "stream",
     "text": [
      "0       go until jurong point crazy available only in ...\n",
      "1                                 ok lar joking wif u oni\n",
      "2       free entry in numbr a wkly comp to win fa cup ...\n",
      "3             u dun say so early hor u c already then say\n",
      "4       nah i don t think he goes to usf he lives arou...\n",
      "                              ...                        \n",
      "5567    this is the numbrnd time we have tried numbr c...\n",
      "5568                  will ü b going to esplanade fr home\n",
      "5569    pity was in mood for that so any other suggest...\n",
      "5570    the guy did some bitching but i acted like i d...\n",
      "5571                            rofl its true to its name\n",
      "Name: 1, Length: 5572, dtype: object\n"
     ]
    }
   ],
   "source": [
    "# change words to lower case - Hello, HELLO, hello are all the same word\n",
    "processed = processed.str.lower()\n",
    "print(processed)"
   ]
  },
  {
   "cell_type": "code",
   "execution_count": 128,
   "metadata": {},
   "outputs": [],
   "source": [
    "#nltk.download()"
   ]
  },
  {
   "cell_type": "code",
   "execution_count": 137,
   "metadata": {},
   "outputs": [],
   "source": [
    "from nltk.corpus import stopwords\n",
    "\n",
    "#remove stop word from text messages\n",
    "stop_words = set(stopwords.words('english'))\n",
    "\n",
    "processed = processed.apply(lambda x:' '.join(term for term in x.split() if term not in stop_words))\n"
   ]
  },
  {
   "cell_type": "code",
   "execution_count": 138,
   "metadata": {},
   "outputs": [
    {
     "name": "stdout",
     "output_type": "stream",
     "text": [
      "0       go jurong point crazi avail bugi n great world...\n",
      "1                                   ok lar joke wif u oni\n",
      "2       free entri numbr wkli comp win fa cup final tk...\n",
      "3                     u dun say earli hor u c alreadi say\n",
      "4                    nah think goe usf live around though\n",
      "                              ...                        \n",
      "5567    numbrnd time tri numbr contact u u moneysymbnu...\n",
      "5568                              ü b go esplanad fr home\n",
      "5569                                    piti mood suggest\n",
      "5570    guy bitch act like interest buy someth el next...\n",
      "5571                                       rofl true name\n",
      "Name: 1, Length: 5572, dtype: object\n"
     ]
    }
   ],
   "source": [
    "#remove word stems using a porter stemmer\n",
    "ps = nltk.PorterStemmer()\n",
    "\n",
    "processed = processed.apply(lambda x:' '.join(ps.stem(term) for term in x.split()))\n",
    "print(processed)"
   ]
  },
  {
   "cell_type": "markdown",
   "metadata": {},
   "source": [
    "### 3. Generating Features"
   ]
  },
  {
   "cell_type": "markdown",
   "metadata": {},
   "source": [
    "Feature engineering is the process of using domain knowledge of the data to create features for machine learning algorithms. In this project, the words in each text message will be our features. For this purpose, it will be necessary to tokenize each word. We will use the 1500 most common words as features."
   ]
  },
  {
   "cell_type": "code",
   "execution_count": 131,
   "metadata": {},
   "outputs": [],
   "source": [
    "from nltk.tokenize import word_tokenize\n",
    "\n",
    "#creating bag-of-word\n",
    "all_words = []\n",
    "\n",
    "for message in processed:\n",
    "    words = word_tokenize(message)\n",
    "    for w in words:\n",
    "        all_words.append(w)\n",
    "        \n",
    "all_words = nltk.FreqDist(all_words)\n"
   ]
  },
  {
   "cell_type": "code",
   "execution_count": 165,
   "metadata": {},
   "outputs": [
    {
     "name": "stdout",
     "output_type": "stream",
     "text": [
      "Number of words: 6579\n",
      "Most common word: [('numbr', 2648), ('u', 1207), ('call', 674), ('go', 456), ('get', 451), ('ur', 391), ('gt', 318), ('lt', 316), ('come', 304), ('moneysymbnumbr', 303), ('ok', 293), ('free', 284), ('day', 276), ('know', 275), ('love', 266), ('like', 261), ('got', 252), ('time', 252), ('good', 248), ('want', 247), ('text', 231), ('send', 214), ('txt', 190), ('need', 190), ('one', 185), ('today', 181), ('take', 174), ('ü', 173), ('see', 173), ('stop', 168), ('home', 167), ('think', 166), ('repli', 163), ('r', 162), ('lor', 162), ('sorri', 160), ('still', 158), ('tell', 157), ('n', 155), ('numbrp', 154), ('back', 153), ('mobil', 153), ('da', 151), ('dont', 149), ('make', 148), ('k', 147), ('week', 141), ('pleas', 141), ('phone', 141), ('say', 140), ('hi', 140), ('work', 136), ('new', 136), ('pl', 135), ('later', 135), ('hope', 134), ('miss', 133), ('ask', 133), ('co', 131), ('meet', 128), ('msg', 127), ('messag', 125), ('night', 124), ('dear', 122), ('c', 121), ('wait', 121), ('happi', 121), ('well', 120), ('tri', 117), ('give', 117), ('great', 116), ('much', 116), ('thing', 116), ('claim', 115), ('oh', 115), ('min', 115), ('wat', 113), ('hey', 112), ('number', 110), ('na', 109), ('friend', 107), ('thank', 106), ('ye', 103), ('way', 102), ('www', 99), ('let', 97), ('e', 96), ('prize', 95), ('feel', 95), ('even', 94), ('right', 94), ('tomorrow', 93), ('wan', 93), ('alreadi', 91), ('pick', 91), ('cash', 89), ('said', 89), ('care', 89), ('b', 88), ('amp', 88), ('yeah', 87), ('im', 87), ('leav', 87), ('realli', 86), ('tone', 86), ('babe', 85), ('win', 84), ('life', 84), ('morn', 83), ('find', 83), ('last', 79), ('sleep', 79), ('servic', 78), ('keep', 78), ('sure', 77), ('use', 76), ('anyth', 76), ('uk', 76), ('buy', 76), ('would', 76), ('year', 75), ('start', 75), ('contact', 75), ('lol', 74), ('also', 74), ('urgent', 73), ('nokia', 73), ('wish', 73), ('look', 72), ('everi', 72), ('smile', 71), ('sent', 70), ('watch', 69), ('someth', 69), ('show', 69), ('com', 68), ('end', 68), ('finish', 67), ('us', 67), ('award', 67), ('gud', 67), ('place', 66), ('cant', 66), ('first', 65), ('special', 63), ('someon', 63), ('person', 63), ('guy', 63), ('custom', 62), ('tonight', 62), ('next', 62), ('nice', 62), ('went', 62), ('around', 61), ('word', 61), ('soon', 61), ('talk', 61), ('help', 61), ('late', 61), ('chat', 61), ('could', 60), ('money', 60), ('collect', 60), ('gon', 59), ('mani', 59), ('per', 58), ('alway', 58), ('plan', 58), ('ya', 58), ('live', 57), ('x', 57), ('sm', 57), ('check', 56), ('lot', 56), ('minut', 56), ('dun', 55), ('name', 55), ('v', 55), ('shop', 55), ('told', 54), ('hello', 53), ('mean', 53), ('may', 52), ('fine', 52), ('girl', 52), ('heart', 52), ('hour', 51), ('reach', 51), ('peopl', 51), ('guarante', 51), ('haha', 51), ('done', 50), ('offer', 50), ('yet', 50), ('happen', 50), ('thk', 50), ('month', 49), ('thought', 49), ('god', 49), ('best', 48), ('play', 48), ('class', 47), ('holiday', 47), ('line', 47), ('fuck', 47), ('receiv', 46), ('stuff', 46), ('lunch', 46), ('car', 46), ('man', 46), ('bit', 46), ('eat', 45), ('mayb', 45), ('never', 45), ('job', 45), ('draw', 45), ('hous', 45), ('ill', 45), ('enjoy', 45), ('worri', 44), ('cs', 44), ('problem', 44), ('yup', 43), ('that', 43), ('cool', 43), ('better', 43), ('account', 43), ('readi', 43), ('mind', 43), ('rate', 42), ('date', 42), ('wk', 42), ('long', 42), ('drive', 42), ('guess', 42), ('dat', 42), ('numbrst', 41), ('chanc', 41), ('cost', 41), ('pay', 41), ('rington', 41), ('weekend', 41), ('boy', 41), ('world', 40), ('latest', 40), ('wonder', 40), ('numbrppm', 40), ('luv', 40), ('game', 40), ('quit', 40), ('room', 39), ('half', 39), ('real', 39), ('yo', 39), ('sir', 39), ('book', 39), ('bring', 39), ('lar', 38), ('camera', 38), ('sweet', 38), ('box', 38), ('noth', 38), ('voucher', 38), ('pic', 38), ('charg', 37), ('anoth', 37), ('join', 37), ('bt', 37), ('liao', 37), ('big', 37), ('shit', 37), ('question', 36), ('select', 36), ('dinner', 36), ('ah', 36), ('po', 36), ('birthday', 36), ('landlin', 36), ('stay', 36), ('kiss', 36), ('put', 36), ('xxx', 35), ('speak', 35), ('rememb', 35), ('ju', 35), ('g', 35), ('video', 35), ('might', 35), ('ever', 35), ('appli', 34), ('wont', 34), ('numbrth', 34), ('anyway', 34), ('actual', 34), ('point', 33), ('final', 33), ('earli', 33), ('network', 33), ('run', 33), ('di', 33), ('hear', 33), ('pa', 33), ('hurt', 33), ('chang', 33), ('aight', 33), ('dream', 33), ('tv', 33), ('babi', 33), ('two', 33), ('orang', 33), ('probabl', 33), ('fun', 32), ('left', 32), ('numbrpm', 32), ('part', 32), ('bed', 32), ('forgot', 32), ('answer', 32), ('thanx', 32), ('shall', 32), ('sat', 32), ('offic', 32), ('den', 32), ('bad', 32), ('princess', 32), ('code', 31), ('pain', 31), ('easi', 31), ('walk', 31), ('wake', 31), ('made', 31), ('dunno', 31), ('numbrnd', 30), ('frnd', 30), ('mail', 30), ('littl', 30), ('leh', 30), ('sound', 30), ('face', 30), ('everyth', 30), ('didnt', 30), ('wife', 30), ('dad', 30), ('enough', 29), ('bu', 29), ('afternoon', 29), ('movi', 29), ('school', 29), ('true', 29), ('detail', 29), ('bore', 29), ('town', 29), ('mate', 29), ('pound', 28), ('numbrhr', 28), ('without', 28), ('tmr', 28), ('lose', 28), ('read', 28), ('post', 28), ('gift', 28), ('await', 28), ('wif', 27), ('though', 27), ('credit', 27), ('decid', 27), ('sinc', 27), ('came', 27), ('okay', 27), ('test', 27), ('must', 27), ('sexi', 27), ('xma', 27), ('import', 27), ('poli', 27), ('entri', 26), ('goe', 26), ('set', 26), ('colour', 26), ('lesson', 26), ('mob', 26), ('close', 26), ('abt', 26), ('price', 26), ('til', 26), ('smoke', 26), ('abl', 26), ('hav', 26), ('wot', 26), ('drink', 26), ('updat', 25), ('wen', 25), ('juz', 25), ('enter', 25), ('bath', 25), ('decim', 25), ('music', 25), ('plz', 25), ('de', 25), ('away', 25), ('plu', 25), ('valid', 24), ('alright', 24), ('till', 24), ('saw', 24), ('yesterday', 24), ('doubl', 24), ('hair', 24), ('havent', 24), ('els', 24), ('busi', 24), ('top', 24), ('hand', 24), ('order', 24), ('weekli', 24), ('dude', 24), ('beauti', 24), ('drop', 24), ('net', 23), ('invit', 23), ('trip', 23), ('food', 23), ('coz', 23), ('id', 23), ('oso', 23), ('head', 23), ('friendship', 23), ('attempt', 23), ('onlin', 23), ('lei', 23), ('search', 22), ('nation', 22), ('ard', 22), ('deliveri', 22), ('address', 22), ('inform', 22), ('player', 22), ('yr', 22), ('open', 22), ('nite', 22), ('hold', 22), ('ring', 22), ('hot', 22), ('haf', 22), ('either', 22), ('sch', 22), ('famili', 22), ('goin', 22), ('brother', 21), ('http', 21), ('mom', 21), ('second', 21), ('bonu', 21), ('caus', 21), ('nt', 21), ('complet', 21), ('believ', 21), ('si', 21), ('touch', 21), ('stori', 21), ('wid', 21), ('full', 21), ('tot', 21), ('sae', 21), ('togeth', 21), ('sad', 21), ('forget', 20), ('old', 20), ('match', 20), ('studi', 20), ('noe', 20), ('club', 20), ('oki', 20), ('row', 20), ('chikku', 20), ('reason', 20), ('huh', 20), ('eve', 20), ('land', 20), ('listen', 20), ('mum', 20), ('train', 20), ('email', 20), ('murder', 20), ('treat', 19), ('news', 19), ('aft', 19), ('fri', 19), ('tomo', 19), ('congrat', 19), ('took', 19), ('ta', 19), ('privat', 19), ('expir', 19), ('dog', 19), ('age', 19), ('everyon', 19), ('parent', 19), ('content', 19), ('grnumbr', 19), ('awesom', 19), ('break', 19), ('die', 19), ('wil', 19), ('park', 19), ('unsubscrib', 19), ('pm', 19), ('simpl', 19), ('pub', 19), ('rite', 19), ('anyon', 19), ('avail', 18), ('caller', 18), ('valu', 18), ('tho', 18), ('move', 18), ('xx', 18), ('download', 18), ('prob', 18), ('statement', 18), ('fanci', 18), ('tc', 18), ('compani', 18), ('reveal', 18), ('angri', 18), ('choos', 18), ('sort', 18), ('card', 18), ('sister', 18), ('valentin', 18), ('current', 18), ('gd', 18), ('opt', 18), ('bnumbr', 18), ('mine', 18), ('neva', 18), ('laugh', 18), ('sell', 18), ('auction', 18), ('joke', 17), ('numbram', 17), ('seem', 17), ('pass', 17), ('lucki', 17), ('ticket', 17), ('type', 17), ('what', 17), ('bank', 17), ('carlo', 17), ('worth', 17), ('found', 17), ('colleg', 17), ('w', 17), ('forward', 17), ('visit', 17), ('whatev', 17), ('knw', 17), ('gal', 17), ('understand', 17), ('alon', 17), ('winner', 16), ('pobox', 16), ('ha', 16), ('smth', 16), ('saturday', 16), ('usual', 16), ('song', 16), ('save', 16), ('oper', 16), ('gone', 16), ('hit', 16), ('friday', 16), ('uncl', 16), ('identifi', 16), ('ninumbr', 16), ('ltd', 16), ('hard', 16), ('log', 16), ('boytoy', 16), ('bill', 16), ('exam', 16), ('secret', 16), ('congratul', 16), ('anytim', 16), ('boxnumbr', 16), ('far', 16), ('fone', 16), ('return', 16), ('mobileupdnumbr', 16), ('bout', 16), ('welcom', 16), ('kind', 16), ('outsid', 16), ('fast', 16), ('sun', 16), ('sit', 16), ('parti', 16), ('surpris', 16), ('how', 16), ('crazi', 15), ('info', 15), ('confirm', 15), ('camcord', 15), ('cut', 15), ('follow', 15), ('rain', 15), ('mu', 15), ('quiz', 15), ('wit', 15), ('mrng', 15), ('darlin', 15), ('rs', 15), ('goodmorn', 15), ('oredi', 15), ('case', 15), ('tel', 15), ('mnumbr', 15), ('light', 15), ('interest', 15), ('suitenumbr', 15), ('numbrland', 15), ('project', 15), ('th', 15), ('differ', 15), ('remov', 15), ('cum', 15), ('nope', 15), ('pretti', 15), ('sea', 15), ('clean', 15), ('drug', 15), ('poboxnumbr', 15), ('wrong', 15), ('nyt', 15), ('chennai', 15), ('tht', 15), ('wkli', 14), ('freemsg', 14), ('numbrday', 14), ('sunday', 14), ('hungri', 14), ('whole', 14), ('correct', 14), ('comput', 14), ('hmm', 14), ('tire', 14), ('spend', 14), ('f', 14), ('cours', 14), ('ga', 14), ('meant', 14), ('fr', 14), ('fix', 14), ('cd', 14), ('unlimit', 14), ('blue', 14), ('numbrmth', 14), ('jay', 14), ('rock', 14), ('ad', 14), ('ten', 14), ('suppos', 14), ('scream', 14), ('term', 14), ('frm', 14), ('savamob', 14), ('sub', 14), ('kid', 14), ('snow', 14), ('least', 14), ('earlier', 14), ('support', 14), ('press', 13), ('reward', 13), ('promis', 13), ('turn', 13), ('catch', 13), ('almost', 13), ('etc', 13), ('hee', 13), ('load', 13), ('shower', 13), ('mah', 13), ('felt', 13), ('pray', 13), ('wine', 13), ('joy', 13), ('hmmm', 13), ('mr', 13), ('balanc', 13), ('march', 13), ('side', 13), ('dnt', 13), ('singl', 13), ('stupid', 13), ('bslvyl', 13), ('normal', 13), ('lost', 13), ('christma', 13), ('figur', 13), ('ago', 13), ('moment', 13), ('st', 13), ('motorola', 13), ('coupl', 13), ('ass', 13), ('india', 13), ('fight', 13), ('within', 13), ('un', 13), ('redeem', 13), ('marri', 13), ('yar', 13), ('area', 13), ('paper', 13), ('sex', 13), ('eye', 13), ('store', 13), ('knew', 13), ('gn', 13), ('film', 13), ('luck', 13), ('john', 13), ('fren', 13), ('father', 13), ('comp', 12), ('eh', 12), ('cheer', 12), ('crave', 12), ('hospit', 12), ('wow', 12), ('ac', 12), ('red', 12), ('complimentari', 12), ('stand', 12), ('askd', 12), ('direct', 12), ('activ', 12), ('sometim', 12), ('safe', 12), ('deal', 12), ('connect', 12), ('semest', 12), ('bcoz', 12), ('teach', 12), ('laptop', 12), ('disturb', 12), ('swing', 12), ('ge', 12), ('numbru', 12), ('via', 12), ('met', 12), ('callnumbroptout', 12), ('seen', 12), ('slow', 12), ('rental', 12), ('doin', 12), ('rent', 12), ('ipod', 12), ('ladi', 12), ('remind', 12), ('gym', 12), ('darren', 12), ('an', 12), ('ugh', 12), ('extra', 12), ('photo', 12), ('heard', 12), ('fill', 12), ('grin', 12), ('difficult', 12), ('hr', 12), ('std', 11), ('usf', 11), ('request', 11), ('copi', 11), ('wap', 11), ('link', 11), ('eg', 11), ('comin', 11), ('abiola', 11), ('rpli', 11), ('includ', 11), ('loan', 11), ('page', 11), ('txting', 11), ('lovabl', 11), ('muz', 11), ('orchard', 11), ('kate', 11), ('regist', 11), ('road', 11), ('expect', 11), ('lover', 11), ('wana', 11), ('somebodi', 11), ('rest', 11), ('pete', 11), ('small', 11), ('weed', 11), ('ex', 11), ('hg', 11), ('wnumbrjnumbrhl', 11), ('discount', 11), ('share', 11), ('yep', 11), ('monday', 11), ('silent', 11), ('member', 11), ('blood', 11), ('warm', 11), ('door', 11), ('noon', 11), ('idea', 11), ('possibl', 11), ('fall', 11), ('whenev', 11), ('asap', 11), ('truth', 11), ('convey', 11), ('p', 11), ('cancel', 11), ('nobodi', 11), ('fantasi', 11), ('fact', 11), ('slowli', 11), ('polic', 11), ('nah', 10), ('callertun', 10), ('bless', 10), ('england', 10), ('sick', 10), ('oop', 10), ('numbrw', 10), ('situat', 10), ('forev', 10), ('short', 10), ('recent', 10), ('il', 10), ('repres', 10), ('gave', 10), ('men', 10), ('apart', 10), ('quot', 10), ('del', 10), ('soni', 10), ('wast', 10), ('trust', 10), ('sign', 10), ('street', 10), ('kick', 10), ('admir', 10), ('deep', 10), ('hmv', 10), ('tonit', 10), ('somewher', 10), ('merri', 10), ('record', 10), ('immedi', 10), ('access', 10), ('custcar', 10), ('rakhesh', 10), ('woke', 10), ('mistak', 10), ('mm', 10), ('voic', 10), ('ldn', 10), ('style', 10), ('water', 10), ('near', 10), ('opinion', 10), ('less', 10), ('children', 10), ('across', 10), ('agenumbr', 10), ('cheap', 10), ('em', 10), ('indian', 10), ('ts', 10), ('ho', 10), ('king', 10), ('gap', 10), ('fantast', 10), ('glad', 10), ('summer', 10), ('getz', 10), ('bag', 10), ('gettin', 10), ('wed', 10), ('poor', 10), ('otherwis', 10), ('ntt', 10), ('sale', 10), ('regard', 10), ('doctor', 10), ('energi', 10), ('numbrnit', 10), ('write', 10), ('cover', 10), ('numbri', 10), ('hw', 10), ('excus', 10), ('cook', 10), ('med', 10), ('empti', 10), ('cup', 9), ('serious', 9), ('mark', 9), ('ice', 9), ('password', 9), ('coffe', 9), ('boss', 9), ('flight', 9), ('app', 9), ('sunshin', 9), ('lazi', 9), ('lect', 9), ('becom', 9), ('doesnt', 9), ('lift', 9), ('especi', 9), ('dead', 9), ('mrt', 9), ('ive', 9), ('appreci', 9), ('flirt', 9), ('goodnight', 9), ('ldew', 9), ('definit', 9), ('unless', 9), ('teas', 9), ('rose', 9), ('sport', 9), ('accept', 9), ('power', 9), ('cake', 9), ('round', 9), ('urself', 9), ('basic', 9), ('bluetooth', 9), ('refer', 9), ('al', 9), ('none', 9), ('kinda', 9), ('result', 9), ('numbrt', 9), ('depend', 9), ('meh', 9), ('self', 9), ('hotel', 9), ('hurri', 9), ('xy', 9), ('add', 9), ('subscrib', 9), ('bid', 9), ('comuk', 9), ('chariti', 9), ('tampa', 9), ('user', 9), ('mid', 9), ('greet', 9), ('gay', 9), ('iam', 9), ('mo', 9), ('wear', 9), ('hiya', 9), ('digit', 9), ('deliv', 9), ('mon', 9), ('mode', 9), ('other', 9), ('bb', 9), ('moral', 9), ('total', 9), ('natur', 9), ('arriv', 9), ('excel', 9), ('list', 9), ('thinkin', 9), ('flag', 9), ('colleagu', 9), ('sofa', 9), ('tear', 9), ('entitl', 8), ('anymor', 8), ('team', 8), ('pizza', 8), ('egg', 8), ('clear', 8), ('quick', 8), ('learn', 8), ('roommat', 8), ('letter', 8), ('nigeria', 8), ('cinema', 8), ('bxnumbr', 8), ('ipnumbr', 8), ('spent', 8), ('pleasur', 8), ('troubl', 8), ('ave', 8), ('umma', 8), ('weight', 8), ('inc', 8), ('bother', 8), ('bak', 8), ('dvd', 8), ('sp', 8), ('swt', 8), ('shirt', 8), ('goto', 8), ('moneysymb', 8), ('experi', 8), ('freephon', 8), ('howev', 8), ('settl', 8), ('success', 8), ('slept', 8), ('file', 8), ('tnc', 8), ('numbrmin', 8), ('lemm', 8), ('celebr', 8), ('sens', 8), ('imagin', 8), ('rcvd', 8), ('wiv', 8), ('practic', 8), ('fault', 8), ('pictur', 8), ('facebook', 8), ('fullonsm', 8), ('logo', 8), ('yahoo', 8), ('aha', 8), ('funni', 8), ('respond', 8), ('din', 8), ('thru', 8), ('reali', 8), ('fat', 8), ('finger', 8), ('workin', 8), ('daddi', 8), ('present', 8), ('ar', 8), ('futur', 8), ('alex', 8), ('offici', 8), ('longer', 8), ('pc', 8), ('tuesday', 8), ('bedroom', 8), ('student', 8), ('librari', 8), ('space', 8), ('slave', 8), ('omg', 8), ('nonumbr', 8), ('moon', 8), ('travel', 8), ('medic', 8), ('numbrg', 8), ('miracl', 8), ('j', 8), ('process', 8), ('black', 8), ('cute', 8), ('honey', 8), ('vl', 8), ('south', 8), ('respons', 8), ('insid', 8), ('wednesday', 8), ('manag', 8), ('pix', 8), ('mood', 8), ('issu', 8), ('bugi', 7), ('la', 7), ('cine', 7), ('darl', 7), ('cri', 7), ('click', 7), ('naughti', 7), ('suck', 7), ('tea', 7), ('pack', 7), ('ahead', 7), ('kept', 7), ('weak', 7), ('realiz', 7), ('kill', 7), ('wun', 7), ('respect', 7), ('locat', 7), ('cuz', 7), ('lie', 7), ('eatin', 7), ('countri', 7), ('arrang', 7), ('excit', 7), ('internet', 7), ('menu', 7), ('hop', 7), ('discuss', 7), ('hell', 7), ('toward', 7), ('buck', 7), ('past', 7), ('system', 7), ('biz', 7), ('numbrgbp', 7), ('batteri', 7), ('kalli', 7), ('cal', 7), ('ship', 7), ('horni', 7), ('nake', 7), ('qualiti', 7), ('sim', 7), ('loyalti', 7), ('high', 7), ('key', 7), ('advanc', 7), ('kb', 7), ('yoga', 7), ('insur', 7), ('maxim', 7), ('cold', 7), ('sigh', 7), ('relax', 7), ('irrit', 7), ('lac', 7), ('dollar', 7), ('tough', 7), ('transfer', 7), ('notic', 7), ('tenerif', 7), ('sec', 7), ('condit', 7), ('somenumbr', 7), ('charact', 7), ('tat', 7), ('mpnumbr', 7), ('unsub', 7), ('lnumbrr', 7), ('malaria', 7), ('lead', 7), ('rather', 7), ('omw', 7), ('gee', 7), ('bare', 7), ('marriag', 7), ('izzit', 7), ('spree', 7), ('announc', 7), ('imma', 7), ('shuhui', 7), ('weather', 7), ('paid', 7), ('pop', 7), ('login', 7), ('fetch', 7), ('awak', 7), ('torch', 7), ('bold', 7), ('dey', 7), ('holla', 7), ('yest', 7), ('damn', 7), ('sing', 7), ('model', 7), ('mother', 7), ('matter', 7), ('hai', 7), ('bird', 7), ('midnight', 7), ('januari', 7), ('piss', 7), ('sknumbrxh', 7), ('score', 7), ('heavi', 7), ('nxt', 7), ('flower', 7), ('numbryr', 7), ('receipt', 7), ('onumbr', 7), ('onto', 7), ('station', 7), ('tuition', 7), ('strong', 7), ('doc', 7), ('cell', 7), ('alrit', 7), ('shd', 7), ('croydon', 7), ('crnumbr', 7), ('numbrwb', 7), ('lmao', 7), ('vomit', 7), ('except', 7), ('prefer', 7), ('instead', 7), ('buzz', 7), ('titl', 7), ('sight', 7), ('remain', 7), ('mth', 7), ('thnk', 7), ('costa', 7), ('sol', 7), ('role', 7), ('vikki', 7), ('wors', 7), ('sky', 7), ('maid', 7), ('behind', 7), ('feb', 7), ('ignor', 7), ('hug', 7), ('tm', 7), ('mell', 6), ('hl', 6), ('stock', 6), ('subscript', 6), ('inch', 6), ('tyler', 6), ('fyi', 6), ('review', 6), ('coin', 6), ('kano', 6), ('simpli', 6), ('verifi', 6), ('hol', 6), ('consid', 6), ('directli', 6), ('standard', 6), ('q', 6), ('local', 6), ('begin', 6), ('qatar', 6), ('delet', 6), ('spoke', 6), ('bye', 6), ('straight', 6), ('partner', 6), ('career', 6), ('star', 6), ('argument', 6), ('websit', 6), ('childish', 6), ('handset', 6), ('dint', 6), ('sunni', 6), ('anybodi', 6), ('throw', 6), ('hang', 6), ('track', 6), ('report', 6), ('surf', 6), ('yiju', 6), ('num', 6), ('ish', 6), ('cc', 6), ('air', 6), ('cuddl', 6), ('will', 6), ('bodi', 6), ('guid', 6), ('pilat', 6), ('numbrish', 6), ('competit', 6), ('aathi', 6), ('wnt', 6), ('vri', 6), ('vari', 6), ('askin', 6), ('group', 6), ('ttyl', 6), ('isnt', 6), ('decis', 6), ('moan', 6), ('fb', 6), ('matur', 6), ('jst', 6), ('numbrgb', 6), ('pin', 6), ('adult', 6), ('campu', 6), ('confid', 6), ('aiyo', 6), ('daili', 6), ('suit', 6), ('vodafon', 6), ('holder', 6), ('earth', 6), ('evng', 6), ('envelop', 6), ('prepar', 6), ('numbrd', 6), ('law', 6), ('wer', 6), ('aftr', 6), ('exactli', 6), ('yay', 6), ('txtauction', 6), ('wnumbrwq', 6), ('normnumbrp', 6), ('boo', 6), ('hunni', 6), ('numbra', 6), ('zed', 6), ('green', 6), ('skype', 6), ('five', 6), ('version', 6), ('sup', 6), ('attend', 6), ('ate', 6), ('wherev', 6), ('expens', 6), ('brand', 6), ('contract', 6), ('kerala', 6), ('asleep', 6), ('loverboy', 6), ('fool', 6), ('seriou', 6), ('april', 6), ('bitch', 6), ('sipix', 6), ('aiyah', 6), ('urawinn', 6), ('howz', 6), ('choic', 6), ('arm', 6), ('tour', 6), ('super', 6), ('girlfrnd', 6), ('cafe', 6), ('vote', 6), ('bought', 6), ('freak', 6), ('london', 6), ('lookin', 6), ('hook', 6), ('arcad', 6), ('creat', 6), ('beer', 6), ('hate', 6), ('toclaim', 6), ('stockport', 6), ('costmoneysymbnumbr', 6), ('maxnumbrmin', 6), ('relat', 6), ('theatr', 6), ('ahmad', 6), ('armand', 6), ('nimya', 6), ('sed', 6), ('pussi', 6), ('solv', 6), ('budget', 6), ('random', 6), ('er', 6), ('plenti', 6), ('amaz', 6), ('cancer', 6), ('bro', 6), ('tariff', 6), ('tick', 6), ('tb', 5), ('spell', 5), ('wet', 5), ('goal', 5), ('convinc', 5), ('burn', 5), ('ride', 5), ('embarass', 5), ('plane', 5), ('urgnt', 5), ('appoint', 5), ('boston', 5), ('truli', 5), ('scare', 5), ('knumbr', 5), ('tt', 5), ('cabin', 5), ('voda', 5), ('predict', 5), ('laid', 5), ('ecnumbra', 5), ('interview', 5), ('avoid', 5), ('satisfi', 5), ('suggest', 5), ('transact', 5), ('can', 5), ('not', 5), ('sen', 5), ('atm', 5), ('romant', 5), ('numbroptout', 5), ('cross', 5), ('sam', 5), ('print', 5), ('argu', 5), ('bcum', 5), ('affect', 5), ('h', 5), ('ray', 5), ('bf', 5), ('meal', 5), ('themob', 5), ('enemi', 5), ('pongal', 5), ('decemb', 5), ('cud', 5), ('ppl', 5), ('allah', 5), ('breath', 5), ('sonyericsson', 5), ('geeee', 5), ('bar', 5), ('lick', 5), ('intro', 5), ('yan', 5), ('jiu', 5), ('l', 5), ('poboxnumbrwnumbrwq', 5), ('hostel', 5), ('express', 5), ('hv', 5), ('amt', 5), ('concentr', 5), ('acc', 5), ('woman', 5), ('flat', 5), ('villag', 5), ('spl', 5), ('stylish', 5), ('prabha', 5), ('passion', 5), ('english', 5), ('btw', 5), ('numbrmrw', 5), ('jazz', 5), ('yogasana', 5), ('numbrxnumbrp', 5), ('exhaust', 5), ('somethin', 5), ('euronumbr', 5), ('aunti', 5), ('thursday', 5), ('cartoon', 5), ('gentl', 5), ('hella', 5), ('belli', 5), ('peac', 5), ('lone', 5), ('build', 5), ('purchas', 5), ('harri', 5), ('alert', 5), ('stress', 5), ('assum', 5), ('mad', 5), ('twice', 5), ('opportun', 5), ('clock', 5), ('act', 5), ('citi', 5), ('meetin', 5), ('ti', 5), ('polyphon', 5), ('piec', 5), ('xxxx', 5), ('sura', 5), ('sn', 5), ('numbrk', 5), ('unsold', 5), ('fail', 5), ('due', 5), ('derek', 5), ('white', 5), ('cheaper', 5), ('ym', 5), ('diet', 5), ('wnumbr', 5), ('bowl', 5), ('site', 5), ('salari', 5), ('videophon', 5), ('videochat', 5), ('java', 5), ('dload', 5), ('nolin', 5), ('rentl', 5), ('yun', 5)]\n"
     ]
    }
   ],
   "source": [
    "# print the total number of words and the 15 most common words\n",
    "print('Number of words: {}'.format(len(all_words)))\n",
    "print('Most common word: {}'.format(all_words.most_common(1500)))"
   ]
  },
  {
   "cell_type": "code",
   "execution_count": 141,
   "metadata": {},
   "outputs": [],
   "source": [
    "# use the 1500 most common words as features\n",
    "word_features = list(all_words.keys())[:1500]\n"
   ]
  },
  {
   "cell_type": "code",
   "execution_count": 152,
   "metadata": {},
   "outputs": [],
   "source": [
    "# The find_features function will determine which of the 1500 word features are contained in the review\n",
    "def find_features(message):\n",
    "    words = word_tokenize(message)\n",
    "    features = {}\n",
    "    for word in word_features:\n",
    "        features[word] = (word in words)\n",
    "\n",
    "    return features\n",
    "\n"
   ]
  },
  {
   "cell_type": "code",
   "execution_count": 176,
   "metadata": {},
   "outputs": [
    {
     "name": "stdout",
     "output_type": "stream",
     "text": [
      "ok\n",
      "numbr\n",
      "std\n",
      "freemsg\n",
      "hey\n",
      "darl\n",
      "week\n",
      "word\n",
      "back\n",
      "like\n",
      "fun\n",
      "still\n",
      "tb\n",
      "xxx\n",
      "chg\n",
      "send\n",
      "moneysymbnumbr\n",
      "rcv\n"
     ]
    }
   ],
   "source": [
    "# Lets see an example!\n",
    "features = find_features(processed[5])\n",
    "for key,value in features.items():\n",
    "    if value == True:\n",
    "        print(key)"
   ]
  },
  {
   "cell_type": "code",
   "execution_count": 193,
   "metadata": {},
   "outputs": [],
   "source": [
    "#now lets do it for all messages\n",
    "message = list(zip(processed, Y))\n",
    "\n",
    "# define a seed for reproducibility\n",
    "seed = 1\n",
    "np.random.seed = seed\n",
    "np.random.shuffle = message\n",
    "\n",
    "# call find_features function for each SMS message\n",
    "featureset = [(find_features(text), label) for (text, label) in message ]"
   ]
  },
  {
   "cell_type": "code",
   "execution_count": 197,
   "metadata": {},
   "outputs": [
    {
     "data": {
      "text/plain": [
       "5572"
      ]
     },
     "execution_count": 197,
     "metadata": {},
     "output_type": "execute_result"
    }
   ],
   "source": [
    "len(featureset)"
   ]
  },
  {
   "cell_type": "code",
   "execution_count": 198,
   "metadata": {},
   "outputs": [],
   "source": [
    "# we can split the featuresets into training and testing datasets using sklearn\n",
    "from sklearn import model_selection\n",
    "\n",
    "# split the data into training and testing datasets\n",
    "training, testing = model_selection.train_test_split(featureset, test_size=0.25, random_state=seed)"
   ]
  },
  {
   "cell_type": "code",
   "execution_count": 201,
   "metadata": {},
   "outputs": [
    {
     "name": "stdout",
     "output_type": "stream",
     "text": [
      "4179\n",
      "1393\n"
     ]
    }
   ],
   "source": [
    "print(len(training))\n",
    "print(len(testing))"
   ]
  },
  {
   "cell_type": "markdown",
   "metadata": {},
   "source": [
    "### 4. Scikit-Learn Classifiers with NLTK"
   ]
  },
  {
   "cell_type": "markdown",
   "metadata": {},
   "source": [
    "Now that we have our dataset, we can start building algorithms! Let's start with a simple linear support vector classifier, then expand to other algorithms. We'll need to import each algorithm we plan on using from sklearn. We also need to import some performance metrics, such as accuracy_score and classification_report."
   ]
  },
  {
   "cell_type": "code",
   "execution_count": 202,
   "metadata": {},
   "outputs": [
    {
     "name": "stdout",
     "output_type": "stream",
     "text": [
      "SVC accuracy: 98.56424982053123\n"
     ]
    }
   ],
   "source": [
    "# We can use sklearn algorithms in NLTK\n",
    "from nltk.classify.scikitlearn import SklearnClassifier\n",
    "from sklearn.svm import SVC\n",
    "\n",
    "\n",
    "model = SklearnClassifier(SVC(kernel='linear'))\n",
    "\n",
    "#train the model on the training data\n",
    "model.train(training)\n",
    "\n",
    "# and test on the testing dataset!\n",
    "accuracy = nltk.classify.accuracy(model, testing)*100\n",
    "print('SVC accuracy: {}'.format(accuracy) )"
   ]
  },
  {
   "cell_type": "code",
   "execution_count": 206,
   "metadata": {},
   "outputs": [
    {
     "name": "stdout",
     "output_type": "stream",
     "text": [
      "K Nearest Neighbors Accuracy: 94.75951184493898\n",
      "Decision Tree Accuracy: 97.34386216798278\n",
      "Random Forest Accuracy: 98.99497487437185\n",
      "Logistic Regression Accuracy: 98.63603732950466\n",
      "SGD Classifier Accuracy: 98.63603732950466\n",
      "Naive Bayes Accuracy: 98.77961234745155\n",
      "SVM Linear Accuracy: 98.56424982053123\n"
     ]
    }
   ],
   "source": [
    "from sklearn.neighbors import KNeighborsClassifier\n",
    "from sklearn.tree import DecisionTreeClassifier\n",
    "from sklearn.ensemble import RandomForestClassifier\n",
    "from sklearn.linear_model import LogisticRegression, SGDClassifier\n",
    "from sklearn.naive_bayes import MultinomialNB\n",
    "from sklearn.svm import SVC\n",
    "from sklearn.metrics import classification_report, accuracy_score, confusion_matrix\n",
    "\n",
    "# Define models to train\n",
    "names = [\"K Nearest Neighbors\", \"Decision Tree\", \"Random Forest\", \"Logistic Regression\", \"SGD Classifier\",\n",
    "         \"Naive Bayes\", \"SVM Linear\"]\n",
    "classifiers = [\n",
    "    KNeighborsClassifier(),\n",
    "    DecisionTreeClassifier(),\n",
    "    RandomForestClassifier(n_estimators=40),\n",
    "    LogisticRegression(),\n",
    "    SGDClassifier(max_iter=100),\n",
    "    MultinomialNB(),\n",
    "    SVC(kernel='linear')\n",
    "]\n",
    "\n",
    "models = list(zip(names, classifiers))\n",
    "\n",
    "for name, model in models:\n",
    "    nltk_model = SklearnClassifier(model)\n",
    "    nltk_model.train(training)\n",
    "    accuracy = nltk.classify.accuracy(nltk_model,testing)*100\n",
    "    print('{} Accuracy: {}'.format(name, accuracy))"
   ]
  },
  {
   "cell_type": "code",
   "execution_count": 216,
   "metadata": {},
   "outputs": [
    {
     "name": "stdout",
     "output_type": "stream",
     "text": [
      "Votion Classifier: Accuracy: 98.85139985642498\n"
     ]
    }
   ],
   "source": [
    "# Ensemble methods - Voting classifier\n",
    "from sklearn.ensemble import VotingClassifier\n",
    "\n",
    "names = [\"K Nearest Neighbors\", \"Decision Tree\", \"Random Forest\", \"Logistic Regression\", \"SGD Classifier\",\n",
    "         \"Naive Bayes\", \"SVM Linear\"]\n",
    "\n",
    "classifiers = [\n",
    "    KNeighborsClassifier(),\n",
    "    DecisionTreeClassifier(),\n",
    "    RandomForestClassifier(n_estimators=54),\n",
    "    LogisticRegression(),\n",
    "    SGDClassifier(max_iter = 100),\n",
    "    MultinomialNB(),\n",
    "    SVC(kernel = 'linear')\n",
    "]\n",
    "\n",
    "models = list(zip(names, classifiers))\n",
    "\n",
    "nltk_ensamble = SklearnClassifier(VotingClassifier(estimators=models, voting='hard', n_jobs=-1))\n",
    "nltk_ensamble.train(training)\n",
    "accuracy= nltk.classify.accuracy(nltk_ensamble,testing)*100\n",
    "print('Votion Classifier: Accuracy: {}'.format(accuracy))\n"
   ]
  },
  {
   "cell_type": "code",
   "execution_count": 218,
   "metadata": {},
   "outputs": [],
   "source": [
    "# make class label prediction for testing set\n",
    "txt_features, label = zip(*testing)\n",
    "\n",
    "prediction= nltk_ensamble.classify_many(txt_features)"
   ]
  },
  {
   "cell_type": "code",
   "execution_count": null,
   "metadata": {},
   "outputs": [],
   "source": []
  },
  {
   "cell_type": "code",
   "execution_count": 223,
   "metadata": {},
   "outputs": [
    {
     "name": "stdout",
     "output_type": "stream",
     "text": [
      "              precision    recall  f1-score   support\n",
      "\n",
      "           0       0.99      1.00      0.99      1208\n",
      "           1       0.98      0.94      0.96       185\n",
      "\n",
      "    accuracy                           0.99      1393\n",
      "   macro avg       0.98      0.97      0.97      1393\n",
      "weighted avg       0.99      0.99      0.99      1393\n",
      "\n"
     ]
    },
    {
     "data": {
      "text/html": [
       "<div>\n",
       "<style scoped>\n",
       "    .dataframe tbody tr th:only-of-type {\n",
       "        vertical-align: middle;\n",
       "    }\n",
       "\n",
       "    .dataframe tbody tr th {\n",
       "        vertical-align: top;\n",
       "    }\n",
       "\n",
       "    .dataframe thead tr th {\n",
       "        text-align: left;\n",
       "    }\n",
       "</style>\n",
       "<table border=\"1\" class=\"dataframe\">\n",
       "  <thead>\n",
       "    <tr>\n",
       "      <th></th>\n",
       "      <th></th>\n",
       "      <th colspan=\"2\" halign=\"left\">predicted</th>\n",
       "    </tr>\n",
       "    <tr>\n",
       "      <th></th>\n",
       "      <th></th>\n",
       "      <th>ham</th>\n",
       "      <th>spam</th>\n",
       "    </tr>\n",
       "  </thead>\n",
       "  <tbody>\n",
       "    <tr>\n",
       "      <th rowspan=\"2\" valign=\"top\">actual</th>\n",
       "      <th>ham</th>\n",
       "      <td>1204</td>\n",
       "      <td>4</td>\n",
       "    </tr>\n",
       "    <tr>\n",
       "      <th>spam</th>\n",
       "      <td>12</td>\n",
       "      <td>173</td>\n",
       "    </tr>\n",
       "  </tbody>\n",
       "</table>\n",
       "</div>"
      ],
      "text/plain": [
       "            predicted     \n",
       "                  ham spam\n",
       "actual ham       1204    4\n",
       "       spam        12  173"
      ]
     },
     "execution_count": 223,
     "metadata": {},
     "output_type": "execute_result"
    }
   ],
   "source": [
    "# print a confusion matrix and a classification report\n",
    "print(classification_report(label, prediction))\n",
    "\n",
    "pd.DataFrame(confusion_matrix(label,prediction),index= [['actual', 'actual'],['ham','spam']],columns = [['predicted','predicted'],['ham','spam']])"
   ]
  },
  {
   "cell_type": "code",
   "execution_count": null,
   "metadata": {},
   "outputs": [],
   "source": []
  }
 ],
 "metadata": {
  "kernelspec": {
   "display_name": "Python 3.8.5 64-bit ('anaconda3': virtualenv)",
   "language": "python",
   "name": "python385jvsc74a57bd0f90de8ee9ad3bffb03e877302f958c38918c98dd35efbe7a7b4ad92d0756cf97"
  },
  "language_info": {
   "codemirror_mode": {
    "name": "ipython",
    "version": 3
   },
   "file_extension": ".py",
   "mimetype": "text/x-python",
   "name": "python",
   "nbconvert_exporter": "python",
   "pygments_lexer": "ipython3",
   "version": "3.7.10"
  }
 },
 "nbformat": 4,
 "nbformat_minor": 4
}
